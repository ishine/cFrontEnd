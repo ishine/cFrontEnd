{
 "cells": [
  {
   "cell_type": "code",
   "execution_count": 1,
   "metadata": {
    "collapsed": true
   },
   "outputs": [],
   "source": [
    "from pypinyin import pinyin,Style\n",
    "import os\n",
    "import glob\n",
    "import logging\n",
    "from jieba import posseg\n",
    "import re\n",
    "from collections import OrderedDict"
   ]
  },
  {
   "cell_type": "code",
   "execution_count": 2,
   "metadata": {},
   "outputs": [],
   "source": [
    "text_file='../inp/texts.txt'"
   ]
  },
  {
   "cell_type": "code",
   "execution_count": 3,
   "metadata": {
    "collapsed": true
   },
   "outputs": [],
   "source": [
    "with open(text_file, 'r') as fid:file:///home/patrick/Untitled%20Folder/codeOfpython.ipynb\n",
    "\n",
    "    textlines = fid.readlines()"
   ]
  },
  {
   "cell_type": "code",
   "execution_count": 4,
   "metadata": {
    "collapsed": true
   },
   "outputs": [],
   "source": [
    "def get_word_pos_list(raw_text):\n",
    "    \"\"\"\n",
    "        get word and pos lists from raw text\n",
    "\n",
    "    Parameters:\n",
    "        raw_text -- raw input as a sentence in our corpus\n",
    "    Returns:\n",
    "        word_list -- list of words in a sentence\n",
    "        pos_list -- list of pos in a sentence\n",
    "    \"\"\"\n",
    "    raw_text = raw_text.strip()\n",
    "    word_list = []\n",
    "    pos_list = []\n",
    "    seg_list = posseg.cut(raw_text, HMM=False)  # 默认是精确模式\n",
    "    for word, flag in seg_list:\n",
    "        # remove the punctuation\n",
    "        if word in ['。', '？', '：', '、', '…']:\n",
    "            continue\n",
    "        word_list.append(word)\n",
    "        pos_list.append(flag)\n",
    "    return word_list, pos_list"
   ]
  },
  {
   "cell_type": "code",
   "execution_count": 14,
   "metadata": {
    "collapsed": true
   },
   "outputs": [],
   "source": [
    "def pre_process(raw_text):\n",
    "    \"\"\"\n",
    "    input raw text\n",
    "    and output line\n",
    "    \"\"\"\n",
    "    # remove the space or other symbols\n",
    "    word_lists = re.split(r'\\s+', raw_text.strip())\n",
    "    if len(word_lists) != 2:\n",
    "        print(word_lists)\n",
    "        print('fuck you')\n",
    "        exit(1)\n",
    "    sent_index = word_lists[0]\n",
    "    word_list = word_lists[1]\n",
    "    word_list = re.split(r'#', word_list)\n",
    "    sent_content = ''.join(word_list)\n",
    "    return sent_index, sent_content"
   ]
  },
  {
   "cell_type": "code",
   "execution_count": 15,
   "metadata": {},
   "outputs": [
    {
     "name": "stdout",
     "output_type": "stream",
     "text": [
      "['']\n",
      "fuck you\n"
     ]
    },
    {
     "ename": "IndexError",
     "evalue": "list index out of range",
     "traceback": [
      "\u001b[0;31m---------------------------------------------------------------------------\u001b[0m",
      "\u001b[0;31mIndexError\u001b[0m                                Traceback (most recent call last)",
      "\u001b[0;32m<ipython-input-15-22e3b1732d14>\u001b[0m in \u001b[0;36m<module>\u001b[0;34m()\u001b[0m\n\u001b[1;32m      1\u001b[0m \u001b[0;32mfor\u001b[0m \u001b[0mtext_line\u001b[0m \u001b[0;32min\u001b[0m \u001b[0mtextlines\u001b[0m\u001b[0;34m:\u001b[0m\u001b[0;34m\u001b[0m\u001b[0m\n\u001b[0;32m----> 2\u001b[0;31m     \u001b[0msent_index\u001b[0m\u001b[0;34m,\u001b[0m \u001b[0msent_content\u001b[0m \u001b[0;34m=\u001b[0m \u001b[0mpre_process\u001b[0m\u001b[0;34m(\u001b[0m\u001b[0mtext_line\u001b[0m\u001b[0;34m)\u001b[0m\u001b[0;34m\u001b[0m\u001b[0m\n\u001b[0m\u001b[1;32m      3\u001b[0m     \u001b[0mword_list\u001b[0m\u001b[0;34m,\u001b[0m \u001b[0mpos_list\u001b[0m \u001b[0;34m=\u001b[0m \u001b[0mget_word_pos_list\u001b[0m\u001b[0;34m(\u001b[0m\u001b[0msent_content\u001b[0m\u001b[0;34m)\u001b[0m\u001b[0;34m\u001b[0m\u001b[0m\n\u001b[1;32m      4\u001b[0m     \u001b[0;32mfor\u001b[0m \u001b[0mword\u001b[0m \u001b[0;32min\u001b[0m \u001b[0mword_list\u001b[0m\u001b[0;34m:\u001b[0m\u001b[0;34m\u001b[0m\u001b[0m\n\u001b[1;32m      5\u001b[0m         \u001b[0mword_pinyin\u001b[0m \u001b[0;34m=\u001b[0m \u001b[0mpinyin\u001b[0m\u001b[0;34m(\u001b[0m\u001b[0mword\u001b[0m\u001b[0;34m,\u001b[0m \u001b[0mstyle\u001b[0m\u001b[0;34m=\u001b[0m\u001b[0mStyle\u001b[0m\u001b[0;34m.\u001b[0m\u001b[0mFINALS\u001b[0m\u001b[0;34m)\u001b[0m\u001b[0;34m\u001b[0m\u001b[0m\n",
      "\u001b[0;32m<ipython-input-14-06e251f72587>\u001b[0m in \u001b[0;36mpre_process\u001b[0;34m(raw_text)\u001b[0m\n\u001b[1;32m     11\u001b[0m         \u001b[0mexit\u001b[0m\u001b[0;34m(\u001b[0m\u001b[0;36m1\u001b[0m\u001b[0;34m)\u001b[0m\u001b[0;34m\u001b[0m\u001b[0m\n\u001b[1;32m     12\u001b[0m     \u001b[0msent_index\u001b[0m \u001b[0;34m=\u001b[0m \u001b[0mword_lists\u001b[0m\u001b[0;34m[\u001b[0m\u001b[0;36m0\u001b[0m\u001b[0;34m]\u001b[0m\u001b[0;34m\u001b[0m\u001b[0m\n\u001b[0;32m---> 13\u001b[0;31m     \u001b[0mword_list\u001b[0m \u001b[0;34m=\u001b[0m \u001b[0mword_lists\u001b[0m\u001b[0;34m[\u001b[0m\u001b[0;36m1\u001b[0m\u001b[0;34m]\u001b[0m\u001b[0;34m\u001b[0m\u001b[0m\n\u001b[0m\u001b[1;32m     14\u001b[0m     \u001b[0mword_list\u001b[0m \u001b[0;34m=\u001b[0m \u001b[0mre\u001b[0m\u001b[0;34m.\u001b[0m\u001b[0msplit\u001b[0m\u001b[0;34m(\u001b[0m\u001b[0;34mr'#'\u001b[0m\u001b[0;34m,\u001b[0m \u001b[0mword_list\u001b[0m\u001b[0;34m)\u001b[0m\u001b[0;34m\u001b[0m\u001b[0m\n\u001b[1;32m     15\u001b[0m     \u001b[0msent_content\u001b[0m \u001b[0;34m=\u001b[0m \u001b[0;34m''\u001b[0m\u001b[0;34m.\u001b[0m\u001b[0mjoin\u001b[0m\u001b[0;34m(\u001b[0m\u001b[0mword_list\u001b[0m\u001b[0;34m)\u001b[0m\u001b[0;34m\u001b[0m\u001b[0m\n",
      "\u001b[0;31mIndexError\u001b[0m: list index out of range"
     ],
     "output_type": "error"
    }
   ],
   "source": [
    "for text_line in textlines:\n",
    "    sent_index, sent_content = pre_process(text_line)\n",
    "    word_list, pos_list = get_word_pos_list(sent_content)\n",
    "    for word in word_list:\n",
    "        word_pinyin = pinyin(word, style=Style.FINALS)\n",
    "        for char_final in word_pinyin:\n",
    "            if char_final[0] == \"ix\":\n",
    "                print(ix)\n",
    "                break"
   ]
  },
  {
   "cell_type": "code",
   "execution_count": null,
   "metadata": {
    "collapsed": true
   },
   "outputs": [],
   "source": []
  }
 ],
 "metadata": {
  "kernelspec": {
   "display_name": "Python 3",
   "language": "python",
   "name": "python3"
  },
  "language_info": {
   "codemirror_mode": {
    "name": "ipython",
    "version": 3
   },
   "file_extension": ".py",
   "mimetype": "text/x-python",
   "name": "python",
   "nbconvert_exporter": "python",
   "pygments_lexer": "ipython3",
   "version": "3.6.3"
  }
 },
 "nbformat": 4,
 "nbformat_minor": 1
}
