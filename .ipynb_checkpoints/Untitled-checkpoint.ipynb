{
 "cells": [
  {
   "cell_type": "code",
   "execution_count": 1,
   "metadata": {
    "collapsed": true
   },
   "outputs": [],
   "source": [
    "import re\n",
    "with open('./raw_text.txt') as fid:\n",
    "    textlines = fid.readlines()"
   ]
  },
  {
   "cell_type": "code",
   "execution_count": 2,
   "metadata": {
    "collapsed": true
   },
   "outputs": [],
   "source": [
    "freq_dict = dict()\n",
    "for line in textlines:\n",
    "    # remove the space and\n",
    "    word_lists = re.split(r'\\s+', line)\n",
    "    word_lists = word_lists[1:]\n",
    "    for word in word_lists:\n",
    "        if word in freq_dict:\n",
    "            freq_dict[word] += 1\n",
    "        else:\n",
    "            freq_dict[word] = 1"
   ]
  },
  {
   "cell_type": "code",
   "execution_count": 3,
   "metadata": {
    "collapsed": true
   },
   "outputs": [],
   "source": [
    "import operator\n",
    "sorted_x = sorted(freq_dict.items(), key=operator.itemgetter(1))"
   ]
  },
  {
   "cell_type": "code",
   "execution_count": 4,
   "metadata": {
    "collapsed": true
   },
   "outputs": [],
   "source": [
    "with open('./dict.txt.big') as fid:\n",
    "    all_lines = fid.readlines()\n",
    "\n",
    "jieba_word_list = []\n",
    "for line in all_lines:\n",
    "    word = re.split(r'\\s+', line)[0]\n",
    "    jieba_word_list.append(word)"
   ]
  },
  {
   "cell_type": "markdown",
   "metadata": {},
   "source": [
    "fw = open('./w.dict','w')\n",
    "for key,value in freq_dict.items():\n",
    "    if key not in jieba_word_list:\n",
    "        print(key)\n",
    "        record = input('whether record')\n",
    "        if record == '1':\n",
    "            freq = input('frequency of word')\n",
    "            tag = input('tag of word')\n",
    "            line = key\n",
    "            out_line = line + ' '+freq +' '+tag+'\\n'\n",
    "            print(out_line)\n",
    "            fw.write(out_line)\n",
    "fw.close()"
   ]
  },
  {
   "cell_type": "code",
   "execution_count": null,
   "metadata": {
    "collapsed": true
   },
   "outputs": [],
   "source": []
  }
 ],
 "metadata": {
  "kernelspec": {
   "display_name": "Python 3",
   "language": "python",
   "name": "python3"
  },
  "language_info": {
   "codemirror_mode": {
    "name": "ipython",
    "version": 3
   },
   "file_extension": ".py",
   "mimetype": "text/x-python",
   "name": "python",
   "nbconvert_exporter": "python",
   "pygments_lexer": "ipython3",
   "version": "3.6.4"
  }
 },
 "nbformat": 4,
 "nbformat_minor": 2
}
