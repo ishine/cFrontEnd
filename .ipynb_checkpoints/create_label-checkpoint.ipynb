{
 "cells": [
  {
   "cell_type": "code",
   "execution_count": 1,
   "metadata": {
    "collapsed": true
   },
   "outputs": [],
   "source": [
    "import jieba\n",
    "from jieba import posseg\n",
    "from linguistic_dict import Linguistic_DICT\n",
    "jieba.set_dictionary('./freq_merged.dict')\n",
    "import pycantonese as pc\n",
    "import re\n",
    "import pdb\n",
    "import logging\n",
    "from collections import OrderedDict\n",
    "import pdb\n",
    "import glob"
   ]
  },
  {
   "cell_type": "code",
   "execution_count": 2,
   "metadata": {
    "collapsed": true
   },
   "outputs": [],
   "source": [
    "def pre_process(raw_text):\n",
    "    \"\"\"\n",
    "    input raw text\n",
    "    and output line\n",
    "    \"\"\"\n",
    "    # remove the space and\n",
    "    word_lists = re.split(r'\\s+', raw_text.strip())\n",
    "\n",
    "    sent_index = word_lists[0]\n",
    "    word_lists = word_lists[1:]\n",
    "    sent_content = ''.join(word_lists)\n",
    "    return sent_index, sent_content"
   ]
  },
  {
   "cell_type": "code",
   "execution_count": 3,
   "metadata": {
    "collapsed": true
   },
   "outputs": [],
   "source": [
    "def get_word_pos_list(raw_text):\n",
    "    \"\"\"\n",
    "        get word and pos lists from raw text\n",
    "\n",
    "    Parameters:\n",
    "        raw_text -- raw input as a sentence in our corpus\n",
    "    Returns:\n",
    "        word_list -- list of words in a sentence\n",
    "        pos_list -- list of pos in a sentence\n",
    "    \"\"\"\n",
    "    raw_text = raw_text.strip()\n",
    "    word_list = []\n",
    "    pos_list = []\n",
    "    seg_list = posseg.cut(raw_text, HMM=False)  # 默认是精确模式\n",
    "#     seg_list = jieba.cut(raw_text, HMM=False)  # 默认是精确模式\n",
    "    # will store the phone list of\n",
    "    for word, flag in seg_list:\n",
    "        word_list.append(word)\n",
    "        pos_list.append(flag)\n",
    "    return word_list, pos_list"
   ]
  },
  {
   "cell_type": "code",
   "execution_count": 4,
   "metadata": {
    "collapsed": true
   },
   "outputs": [],
   "source": [
    "def get_word_phone_list(word_dict, word_list):\n",
    "    \"\"\"\n",
    "        get phone list and phone array of word_list\n",
    "\n",
    "    Parameters:\n",
    "        word_list -- list of words in a sentence [\"我\"，\"是个\"]\n",
    "        create_oov -- oov dictionary needed to be created at first step.\n",
    "    \"\"\"\n",
    "    \n",
    "    phone_list = []\n",
    "    tone_list = []\n",
    "    syl_map = OrderedDict()\n",
    "    word_map = OrderedDict()\n",
    "    phone_index = 0\n",
    "    char_index = 0\n",
    "    word_index = 0\n",
    "    for word in word_list:\n",
    "        word = word.strip()\n",
    "        word_phone = word_dict[word]\n",
    "        jp = pc.parse_jyutping(word_phone)\n",
    "        for phone_t in jp:\n",
    "            char_phone = list(phone_t)\n",
    "            char_phone = [e_phone for e_phone in char_phone if e_phone != '']\n",
    "            assert char_phone[-1].isdigit()\n",
    "            for my_phone in char_phone[:-1]:\n",
    "                syl_map[phone_index] = char_index\n",
    "                phone_index = phone_index + 1\n",
    "            phone_list.extend(char_phone[:-1])\n",
    "            tone_list.append(char_phone[-1])\n",
    "            word_map[char_index] = word_index\n",
    "            char_index = char_index + 1\n",
    "            # non_tone_line_phones.append(''.join(char_phone[:-1]))\n",
    "        word_index = word_index + 1\n",
    "#     logging.debug(\"phone_list:\" + ' '.join(phone_list))\n",
    "    return phone_list, tone_list, syl_map, word_map"
   ]
  },
  {
   "cell_type": "code",
   "execution_count": 5,
   "metadata": {
    "collapsed": true
   },
   "outputs": [],
   "source": [
    "ali_files = glob.glob('./cup_ali/*.txt')\n",
    "phone_with_sil = './phone_with_sil.txt'\n",
    "mfid = open(phone_with_sil, 'w')\n",
    "all_files_num = len(ali_files)\n",
    "for sent_index in range(all_files_num):\n",
    "    ali_file = './cup_ali/'+str(sent_index+1)+'.txt'\n",
    "    with open(ali_file,'r') as fid:\n",
    "        ali_file_lines = fid.readlines()\n",
    "    phone_list=[]\n",
    "    for line in ali_file_lines:\n",
    "        line = line.strip()\n",
    "        phone = re.split('\\s+',line)[2]\n",
    "        phone=re.split('_',phone)[0]\n",
    "        phone_list.append(phone)\n",
    "    phone_line = str(sent_index)+' '+' '.join(phone_list)+'\\n'\n",
    "    mfid.write(phone_line)\n",
    "mfid.close()"
   ]
  },
  {
   "cell_type": "code",
   "execution_count": 6,
   "metadata": {
    "collapsed": true
   },
   "outputs": [],
   "source": [
    "mld = Linguistic_DICT()\n",
    "word_dict = mld.get_phone_dict(dict_file='./remove_poly_lexicon.lex')\n",
    "with open('./raw_text.txt') as fid:\n",
    "    textlines = fid.readlines()"
   ]
  },
  {
   "cell_type": "code",
   "execution_count": null,
   "metadata": {
    "collapsed": true
   },
   "outputs": [],
   "source": [
    "non_silence_map = OrderedDict()"
   ]
  },
  {
   "cell_type": "code",
   "execution_count": 7,
   "metadata": {
    "collapsed": true
   },
   "outputs": [],
   "source": [
    "phone_with_sil = './phone_with_sil.txt'\n",
    "with open(phone_with_sil, 'r') as mmfid:\n",
    "    sil_phone_lines = mmfid.readlines()"
   ]
  },
  {
   "cell_type": "code",
   "execution_count": 9,
   "metadata": {},
   "outputs": [],
   "source": [
    "def pos_phone_in_syl(phone_index, syl_map):\n",
    "    syl_index = syl_map[phone_index]\n",
    "    syl_index_list = []\n",
    "    for key,value in syl_map.items():\n",
    "        if value == syl_index:\n",
    "            syl_index_list.append(key)\n",
    "    syl_len = len(syl_index_list)\n",
    "    fw_pos = syl_index_list.index(phone_index)+1\n",
    "    bw_pos = syl_len-fw_pos+1\n",
    "    return fw_pos, bw_pos, syl_index, syl_len\n",
    "    "
   ]
  },
  {
   "cell_type": "code",
   "execution_count": null,
   "metadata": {},
   "outputs": [],
   "source": [
    "for text_line, sil_phone_line in zip(textlines, sil_phone_lines):\n",
    "    sil_phone_list = re.split('\\s+', sil_phone_line.strip())[1:]\n",
    "    pdb.set_trace()\n",
    "    sil_nonsil_map = OrderedDict()\n",
    "    non_sil_index = 0\n",
    "    for sil_index, sil_phone in enumerate(sil_phone_list):\n",
    "        if sil_phone != 'sil':\n",
    "            sil_nonsil_map[sil_index] = non_sil_index\n",
    "            non_sil_index = non_sil_index + 1\n",
    "    sent_index, sent_content = pre_process(text_line)\n",
    "    word_list, pos_list = get_word_pos_list(sent_content)\n",
    "    phone_list, tone_list, syl_map, word_map = get_word_phone_list(word_dict, word_list)\n",
    "    pdb.set_trace()\n",
    "    iter_len = len(sil_phone_list)\n",
    "    sil_phone_list.insert(0, 'x')\n",
    "    sil_phone_list.insert(0,'x')\n",
    "    sil_phone_list.insert(len(sil_phone_list), 'x')\n",
    "    sil_phone_list.insert(len(sil_phone_list), 'x')\n",
    "    for index in range(iter_len):\n",
    "        ll_phone = sil_phone_list[index]\n",
    "        l_phone = sil_phone_list[index+1]\n",
    "        c_phone = sil_phone_list[index+2]\n",
    "        r_phone = sil_phone_list[index+3]\n",
    "        rr_phone = sil_phone_list[index+4]\n",
    "        if c_phone != 'sil':\n",
    "            non_sil_index = sil_nonsil_map[index]\n",
    "            fw_ph_syl, bw_ph_syl,syl_index, syl_len = pos_phone_in_syl(non_sil_index, syl_map)\n",
    "            # position of phone in the syllabel forward and backward\n",
    "            fw_ph_syl = str(fw_ph_syl)\n",
    "            bw_ph_syl = str(bw_ph_syl)\n",
    "            if l_phone == 'sil':\n",
    "                prev_tone = '0'\n",
    "                pre_syl_num = '0'\n",
    "            else:\n",
    "                prev_tone = tone_list[syl_index-1]\n",
    "                pre_syl_num = cur_syl_num\n",
    "            if r_phone == \"sil\":\n",
    "                next_tone = '0'\n",
    "            else\n",
    "                next_tone = tone_list[syl_index+1]\n",
    "            cur_tone = tone_list[syl_index]\n",
    "        else: \n",
    "            fw_ph_syl = 'x'\n",
    "            bw_ph_syl = 'x'\n",
    "        print(\"{0}^{1}-{2}+{3}={4}@{5}_{6}\".format(ll_phone,l_phone,c_phone,r_phone,rr_phone, str(fw_ph_syl),str(bw_ph_syl)))\n",
    "    break"
   ]
  },
  {
   "cell_type": "code",
   "execution_count": null,
   "metadata": {},
   "outputs": [],
   "source": [
    "tone_list"
   ]
  },
  {
   "cell_type": "code",
   "execution_count": null,
   "metadata": {
    "collapsed": true
   },
   "outputs": [],
   "source": []
  },
  {
   "cell_type": "code",
   "execution_count": null,
   "metadata": {
    "collapsed": true
   },
   "outputs": [],
   "source": []
  },
  {
   "cell_type": "code",
   "execution_count": null,
   "metadata": {
    "collapsed": true
   },
   "outputs": [],
   "source": []
  },
  {
   "cell_type": "code",
   "execution_count": null,
   "metadata": {
    "collapsed": true
   },
   "outputs": [],
   "source": []
  },
  {
   "cell_type": "code",
   "execution_count": null,
   "metadata": {
    "collapsed": true
   },
   "outputs": [],
   "source": []
  },
  {
   "cell_type": "code",
   "execution_count": null,
   "metadata": {
    "collapsed": true
   },
   "outputs": [],
   "source": []
  }
 ],
 "metadata": {
  "kernelspec": {
   "display_name": "Python 3",
   "language": "python",
   "name": "python3"
  },
  "language_info": {
   "codemirror_mode": {
    "name": "ipython",
    "version": 3
   },
   "file_extension": ".py",
   "mimetype": "text/x-python",
   "name": "python",
   "nbconvert_exporter": "python",
   "pygments_lexer": "ipython3",
   "version": "3.6.4"
  }
 },
 "nbformat": 4,
 "nbformat_minor": 2
}
